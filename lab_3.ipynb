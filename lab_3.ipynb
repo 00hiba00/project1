{
  "nbformat": 4,
  "nbformat_minor": 0,
  "metadata": {
    "colab": {
      "provenance": [],
      "include_colab_link": true
    },
    "kernelspec": {
      "name": "python3",
      "display_name": "Python 3"
    },
    "language_info": {
      "name": "python"
    }
  },
  "cells": [
    {
      "cell_type": "markdown",
      "metadata": {
        "id": "view-in-github",
        "colab_type": "text"
      },
      "source": [
        "<a href=\"https://colab.research.google.com/github/00hiba00/project1/blob/main/lab_3.ipynb\" target=\"_parent\"><img src=\"https://colab.research.google.com/assets/colab-badge.svg\" alt=\"Open In Colab\"/></a>"
      ]
    },
    {
      "cell_type": "markdown",
      "source": [
        "# Lab 3"
      ],
      "metadata": {
        "id": "YQPI3T-foNKW"
      }
    },
    {
      "cell_type": "code",
      "execution_count": 10,
      "metadata": {
        "id": "Y-shsWdpoG7u"
      },
      "outputs": [],
      "source": [
        "import sqlite3"
      ]
    },
    {
      "cell_type": "markdown",
      "source": [
        "# Init db"
      ],
      "metadata": {
        "id": "mDKy2vh9rgiW"
      }
    },
    {
      "cell_type": "code",
      "source": [
        "# connect to db\n",
        "conn = sqlite3.connect('lab_3.db')\n",
        "cursor = conn.cursor()"
      ],
      "metadata": {
        "id": "bb_QU4fqoQou"
      },
      "execution_count": 11,
      "outputs": []
    },
    {
      "cell_type": "markdown",
      "source": [
        "# Create tables"
      ],
      "metadata": {
        "id": "00OEVT49riMx"
      }
    },
    {
      "cell_type": "code",
      "source": [
        "# create tables\n",
        "cursor.execute('''\n",
        "CREATE TABLE IF NOT EXISTS Professors (\n",
        "    prof_ssn CHAR(10) PRIMARY KEY,\n",
        "    name CHAR(64),\n",
        "    age INTEGER,\n",
        "    rank INTEGER,\n",
        "    speciality CHAR(64)\n",
        ");''')\n",
        "\n",
        "\n",
        "cursor.execute('''\n",
        "CREATE TABLE IF NOT EXISTS Depts (\n",
        "    dno INTEGER PRIMARY KEY,\n",
        "    dname CHAR(64),\n",
        "    office CHAR(10)\n",
        ");''')\n",
        "\n",
        "\n",
        "cursor.execute('''\n",
        "CREATE TABLE IF NOT EXISTS Runs (\n",
        "    dno INTEGER,\n",
        "    prof_ssn CHAR(10),\n",
        "    PRIMARY KEY (dno, prof_ssn),\n",
        "    FOREIGN KEY (prof_ssn) REFERENCES Professors,\n",
        "    FOREIGN KEY (dno) REFERENCES Depts\n",
        ");''')\n",
        "\n",
        "\n",
        "cursor.execute('''\n",
        "CREATE TABLE IF NOT EXISTS Work_Dept (\n",
        "    dno INTEGER,\n",
        "    prof_ssn CHAR(10),\n",
        "    pc_time INTEGER,\n",
        "    PRIMARY KEY (dno, prof_ssn),\n",
        "    FOREIGN KEY (prof_ssn) REFERENCES Professors,\n",
        "    FOREIGN KEY (dno) REFERENCES Depts\n",
        ");''')\n",
        "\n",
        "\n",
        "cursor.execute('''\n",
        "CREATE TABLE IF NOT EXISTS Projects (\n",
        "    pid INTEGER PRIMARY KEY,\n",
        "    sponsor CHAR(32),\n",
        "    start_date DATE,\n",
        "    end_date DATE,\n",
        "    budget FLOAT\n",
        ");''')\n",
        "\n",
        "\n",
        "cursor.execute('''\n",
        "CREATE TABLE IF NOT EXISTS Graduates (\n",
        "    grad_ssn CHAR(10) PRIMARY KEY,\n",
        "    age INTEGER,\n",
        "    name CHAR(64),\n",
        "    deg_prog CHAR(32),\n",
        "    major INTEGER,\n",
        "    FOREIGN KEY (major) REFERENCES Depts\n",
        ");''')\n",
        "\n",
        "\n",
        "cursor.execute('''\n",
        "CREATE TABLE IF NOT EXISTS Advisor (\n",
        "    senior_ssn CHAR(10),\n",
        "    grad_ssn CHAR(10),\n",
        "    PRIMARY KEY (senior_ssn, grad_ssn),\n",
        "    FOREIGN KEY (senior_ssn) REFERENCES Graduates(grad_ssn),\n",
        "    FOREIGN KEY (grad_ssn) REFERENCES Graduates\n",
        ");''')\n",
        "\n",
        "\n",
        "cursor.execute('''\n",
        "CREATE TABLE IF NOT EXISTS Manages (\n",
        "    pid INTEGER,\n",
        "    prof_ssn CHAR(10),\n",
        "    PRIMARY KEY (pid, prof_ssn),\n",
        "    FOREIGN KEY (prof_ssn) REFERENCES Professors,\n",
        "    FOREIGN KEY (pid) REFERENCES Projects\n",
        ");''')\n",
        "\n",
        "cursor.execute('''\n",
        "CREATE TABLE IF NOT EXISTS Work_In (\n",
        "    pid INTEGER,\n",
        "    prof_ssn CHAR(10),\n",
        "    PRIMARY KEY (pid, prof_ssn),\n",
        "    FOREIGN KEY (prof_ssn) REFERENCES Professors,\n",
        "    FOREIGN KEY (pid) REFERENCES Projects\n",
        ");''')\n",
        "\n",
        "\n",
        "cursor.execute('''\n",
        "CREATE TABLE IF NOT EXISTS Supervises (\n",
        "    prof_ssn CHAR(10),\n",
        "    grad_ssn CHAR(10),\n",
        "    pid INTEGER,\n",
        "    PRIMARY KEY (prof_ssn, grad_ssn, pid),\n",
        "    FOREIGN KEY (prof_ssn) REFERENCES Professors,\n",
        "    FOREIGN KEY (grad_ssn) REFERENCES Graduates,\n",
        "    FOREIGN KEY (pid) REFERENCES Projects\n",
        ");''')\n"
      ],
      "metadata": {
        "id": "Oal0Ho6OoXsb",
        "outputId": "f7303149-b420-4630-a074-f3eb0720db9b",
        "colab": {
          "base_uri": "https://localhost:8080/"
        }
      },
      "execution_count": 12,
      "outputs": [
        {
          "output_type": "execute_result",
          "data": {
            "text/plain": [
              "<sqlite3.Cursor at 0x7a9a0c3436c0>"
            ]
          },
          "metadata": {},
          "execution_count": 12
        }
      ]
    },
    {
      "cell_type": "markdown",
      "source": [
        "# Add data"
      ],
      "metadata": {
        "id": "oFGYQ7dErnea"
      }
    },
    {
      "cell_type": "code",
      "source": [
        "# add data\n",
        "professors = [\n",
        "    ('P1', 'Prof. Smith', 55, 1, 'AI'),\n",
        "    ('P2', 'Prof. Johnson', 45, 2, 'DBMS'),\n",
        "    ('P3', 'Prof. Lee', 50, 1, 'Networking'),\n",
        "    ('P4', 'Prof. Kim', 40, 3, 'Cybersecurity')\n",
        "]\n",
        "cursor.executemany('INSERT OR IGNORE INTO Professors VALUES (?, ?, ?, ?, ?)', professors)\n",
        "\n",
        "depts = [\n",
        "    (1, 'Computer Science', 'A101'),\n",
        "    (2, 'Mathematics', 'B201'),\n",
        "    (3, 'Physics', 'C301')\n",
        "]\n",
        "cursor.executemany('INSERT OR IGNORE INTO Depts VALUES (?, ?, ?)', depts)\n",
        "\n",
        "\n",
        "runs = [\n",
        "    (1, 'P1'),\n",
        "    (2, 'P2'),\n",
        "    (3, 'P3')\n",
        "]\n",
        "cursor.executemany('INSERT OR IGNORE INTO Runs VALUES (?, ?)', runs)\n",
        "\n",
        "\n",
        "work_dept = [\n",
        "    (1, 'P1', 30),\n",
        "    (2, 'P2', 20),\n",
        "    (3, 'P3', 25)\n",
        "]\n",
        "cursor.executemany('INSERT OR IGNORE INTO Work_Dept VALUES (?, ?, ?)', work_dept)\n",
        "\n",
        "\n",
        "projects = [\n",
        "    (101, 'NSF', '2023-01-01', '2023-12-31', 50000),\n",
        "    (102, 'Google', '2022-06-01', '2024-05-31', 100000),\n",
        "    (103, 'Microsoft', '2023-03-01', '2023-11-30', 75000)\n",
        "]\n",
        "cursor.executemany('INSERT OR IGNORE INTO Projects VALUES (?, ?, ?, ?, ?)', projects)\n",
        "\n",
        "\n",
        "graduates = [\n",
        "    ('G1', 24, 'Alice', 'M.Sc', 1),\n",
        "    ('G2', 26, 'Bob', 'Ph.D', 2),\n",
        "    ('G3', 23, 'Charlie', 'B.Sc', 3)\n",
        "]\n",
        "cursor.executemany('INSERT OR IGNORE INTO Graduates VALUES (?, ?, ?, ?, ?)', graduates)\n",
        "\n",
        "\n",
        "advisors = [\n",
        "    ('G2', 'G1'),\n",
        "    ('G3', 'G2')\n",
        "]\n",
        "cursor.executemany('INSERT OR IGNORE INTO Advisor VALUES (?, ?)', advisors)\n",
        "\n",
        "\n",
        "manages = [\n",
        "    (101, 'P1'),\n",
        "    (102, 'P2'),\n",
        "    (101, 'P2'),\n",
        "    (103, 'P3')\n",
        "]\n",
        "cursor.executemany('INSERT OR IGNORE INTO Manages VALUES (?, ?)', manages)\n",
        "\n",
        "\n",
        "work_in = [\n",
        "    (101, 'P1'),\n",
        "    (102, 'P2'),\n",
        "    (103, 'P3')\n",
        "]\n",
        "cursor.executemany('INSERT OR IGNORE INTO Work_In VALUES (?, ?)', work_in)\n",
        "\n",
        "\n",
        "supervises = [\n",
        "    ('P1', 'G1', 101),\n",
        "    ('P2', 'G2', 102),\n",
        "    ('P3', 'G3', 103)\n",
        "]\n",
        "cursor.executemany('INSERT OR IGNORE INTO Supervises VALUES (?, ?, ?)', supervises)\n",
        "\n",
        "conn.commit()\n"
      ],
      "metadata": {
        "id": "-c4ulu7cojdH"
      },
      "execution_count": 15,
      "outputs": []
    },
    {
      "cell_type": "markdown",
      "source": [
        "**Section 2: Joins**\n",
        "#### **Examples**\n",
        "1. Retrieve all professors and their departments.\n",
        "   ```sql\n",
        "   SELECT p.name AS Professor, d.dname AS Department\n",
        "   FROM Professors p\n",
        "   JOIN Runs r ON p.prof_ssn = r.prof_ssn\n",
        "   JOIN Depts d ON r.dno = d.dno;\n",
        "   ```\n",
        "2. Find the graduates and their advisors.\n",
        "   ```sql\n",
        "   SELECT g.name AS Graduate, g2.name AS Advisor\n",
        "   FROM Graduates g\n",
        "   JOIN Advisor a ON g.grad_ssn = a.grad_ssn\n",
        "   JOIN Graduates g2 ON a.senior_ssn = g2.grad_ssn;\n",
        "    ```\n",
        "#### Questions:\n",
        "3. List the names of all professors and their associated projects.\n",
        "4. List all graduates along with their advisors and the department they are majoring in.\n",
        "5. Retrieve professors who manage at least one project and the project details."
      ],
      "metadata": {
        "id": "jFla4cw8pUTA"
      }
    },
    {
      "cell_type": "code",
      "source": [
        "# q3\n",
        "results = cursor.execute(\"\"\"\n",
        "SELECT p.name AS Professor, w.pid AS Project\n",
        "FROM Professors p\n",
        "JOIN Work_In as w ON p.prof_ssn = w.prof_ssn;\n",
        "\"\"\")\n",
        "print(results.fetchall())\n",
        "\n"
      ],
      "metadata": {
        "id": "LFIQ2-bwrZ1Q",
        "outputId": "a6b8fd40-3e03-4c20-f830-2b90d103cf61",
        "colab": {
          "base_uri": "https://localhost:8080/"
        }
      },
      "execution_count": 6,
      "outputs": [
        {
          "output_type": "stream",
          "name": "stdout",
          "text": [
            "[('Prof. Smith', 101), ('Prof. Johnson', 102), ('Prof. Lee', 103)]\n"
          ]
        }
      ]
    },
    {
      "cell_type": "code",
      "source": [
        "# q4\n",
        "results = cursor.execute(\"\"\"\n",
        "SELECT g.name AS Graduate, g2.name AS Advisor, d.dname AS Major\n",
        "FROM Graduates g\n",
        "JOIN Advisor a ON g.grad_ssn = a.grad_ssn\n",
        "JOIN Graduates g2 ON a.senior_ssn = g2.grad_ssn\n",
        "JOIN Depts d ON g.major = d.dno;\n",
        "\"\"\")\n",
        "print(results.fetchall())\n"
      ],
      "metadata": {
        "id": "GnNXES0Jradq",
        "outputId": "836ae0b1-0a46-49d9-9a87-dbf64bfcabde",
        "colab": {
          "base_uri": "https://localhost:8080/"
        }
      },
      "execution_count": 8,
      "outputs": [
        {
          "output_type": "stream",
          "name": "stdout",
          "text": [
            "[('Alice', 'Bob', 'Computer Science'), ('Bob', 'Charlie', 'Mathematics')]\n"
          ]
        }
      ]
    },
    {
      "cell_type": "code",
      "source": [
        "# q5\n",
        "results = cursor.execute(\"\"\"\n",
        "SELECT p.name , m.pid, pr.sponsor, pr.start_date, pr.end_date, pr.budget\n",
        "FROM Professors p\n",
        "JOIN Manages m ON p.prof_ssn = m.prof_ssn\n",
        "JOIN Projects pr ON m.pid = pr.pid;\n",
        "\"\"\")\n",
        "print(results.fetchall())\n"
      ],
      "metadata": {
        "id": "HAZ_q9D6rbGc",
        "outputId": "27dccf6b-dd0e-4a0c-be65-f54b13277493",
        "colab": {
          "base_uri": "https://localhost:8080/"
        }
      },
      "execution_count": 17,
      "outputs": [
        {
          "output_type": "stream",
          "name": "stdout",
          "text": [
            "[('Prof. Smith', 101, 'NSF', '2023-01-01', '2023-12-31', 50000.0), ('Prof. Johnson', 102, 'Google', '2022-06-01', '2024-05-31', 100000.0), ('Prof. Lee', 103, 'Microsoft', '2023-03-01', '2023-11-30', 75000.0), ('Prof. Johnson', 101, 'NSF', '2023-01-01', '2023-12-31', 50000.0)]\n"
          ]
        }
      ]
    },
    {
      "cell_type": "markdown",
      "source": [
        "\n",
        "\n",
        "### **Section 2: Nested Queries**\n",
        "\n",
        "#### **Examples**\n",
        "1. Find the names of professors who manage projects with budgets greater than $70,000.\n",
        "   ```sql\n",
        "   SELECT name\n",
        "   FROM Professors\n",
        "   WHERE prof_ssn IN (\n",
        "       SELECT prof_ssn\n",
        "       FROM Manages\n",
        "       WHERE pid IN (\n",
        "           SELECT pid\n",
        "           FROM Projects\n",
        "           WHERE budget > 70000\n",
        "       )\n",
        "   );\n",
        "   ```\n",
        "\n",
        "2. Retrieve graduates who have the same major as Prof. Smith's department.\n",
        "   ```sql\n",
        "   SELECT name\n",
        "   FROM Graduates\n",
        "   WHERE major = (\n",
        "       SELECT dno\n",
        "       FROM Runs\n",
        "       WHERE prof_ssn = 'P1'\n",
        "   );\n",
        "   ```\n",
        "\n",
        "#### **Questions**\n",
        "3. Find graduates whose advisor is also supervising a project.\n",
        "4. Retrieve the name of the professor who manages the project with the highest budget.\n",
        "5. List all graduates who are majoring in the same department as their advisors.\n"
      ],
      "metadata": {
        "id": "NMYB76Gqpxsi"
      }
    },
    {
      "cell_type": "code",
      "source": [
        "# q3\n",
        "results = cursor.execute(\"\"\"\n",
        "SELECT g.name FROM Graduates as g\n",
        "JOIN Advisor as a ON a.grad_ssn = g.grad_ssn\n",
        "WHERE a.senior_ssn IN (\n",
        "    SELECT s.grad_ssn FROM Supervises as s\n",
        "    );\n",
        "\n",
        "\"\"\")\n",
        "print(results.fetchall())"
      ],
      "metadata": {
        "id": "ob4I-v2kqscD",
        "outputId": "d2aefefd-3b45-414c-9040-797aa33a97fd",
        "colab": {
          "base_uri": "https://localhost:8080/"
        }
      },
      "execution_count": 18,
      "outputs": [
        {
          "output_type": "stream",
          "name": "stdout",
          "text": [
            "[('Alice',), ('Bob',)]\n"
          ]
        }
      ]
    },
    {
      "cell_type": "code",
      "source": [
        "# q4\n",
        "results = cursor.execute(\"\"\"\n",
        "SELECT p.name FROM Professors as p JOIN  Manages as m\n",
        "ON m.prof_ssn = p.prof_ssn\n",
        "WHERE m.pid = (\n",
        "  SELECT pr.pid FROM Projects as pr\n",
        "  WHERE pr.budget = (SELECT MAX(pr.budget) FROM Projects as pr)\n",
        ");\n",
        "\n",
        "\"\"\")\n",
        "print(results.fetchall())"
      ],
      "metadata": {
        "id": "XhQFjZJXqsFq",
        "outputId": "7c76293d-a3e7-411e-d1a9-9b493a8f9783",
        "colab": {
          "base_uri": "https://localhost:8080/"
        }
      },
      "execution_count": 22,
      "outputs": [
        {
          "output_type": "stream",
          "name": "stdout",
          "text": [
            "[('Prof. Johnson',)]\n"
          ]
        }
      ]
    },
    {
      "cell_type": "code",
      "source": [
        "# q5\n",
        "results = cursor.execute(\"\"\"\n",
        "SELECT g.name FROM Graduates as g\n",
        "JOIN Advisor as a ON g.grad_ssn = a.grad_ssn\n",
        "WHERE g.major = (\n",
        "   SELECT g2.major\n",
        "   FROM Graduates as g2\n",
        "   WHERE g2.grad_ssn = a.senior_ssn\n",
        ");\n",
        "\n",
        "\"\"\")\n",
        "print(results.fetchall())"
      ],
      "metadata": {
        "id": "YN_LD3GDrTic",
        "outputId": "143c80d3-7369-4514-ddc7-d334dfcc58ac",
        "colab": {
          "base_uri": "https://localhost:8080/"
        }
      },
      "execution_count": 24,
      "outputs": [
        {
          "output_type": "stream",
          "name": "stdout",
          "text": [
            "[]\n"
          ]
        }
      ]
    },
    {
      "cell_type": "markdown",
      "source": [
        "### **Section 3: Triggers**\n",
        "\n",
        "#### **Examples**\n",
        "1. Prevent insertion of a graduate younger than 21.\n",
        "   ```sql\n",
        "   CREATE TRIGGER prevent_young_grads\n",
        "   BEFORE INSERT ON Graduates\n",
        "   FOR EACH ROW\n",
        "   BEGIN\n",
        "       SELECT CASE\n",
        "           WHEN NEW.age < 21 THEN\n",
        "               RAISE(ABORT, 'Graduate must be at least 21 years old')\n",
        "       END;\n",
        "   END;\n",
        "   ```\n",
        "\n",
        "2. Automatically assign a professor to a department if they are added without one.\n",
        "   ```sql\n",
        "   CREATE TRIGGER assign_default_dept\n",
        "   AFTER INSERT ON Professors\n",
        "   FOR EACH ROW\n",
        "   WHEN NOT EXISTS (SELECT * FROM Runs WHERE prof_ssn = NEW.prof_ssn)\n",
        "   BEGIN\n",
        "       INSERT INTO Runs (dno, prof_ssn) VALUES (1, NEW.prof_ssn);\n",
        "   END;\n",
        "   ```\n",
        "\n",
        "#### **Questions**\n",
        "3. Write a trigger to ensure that projects with a budget over $100,000 cannot be added.\n",
        "4. Create a trigger to ensure that when a project is deleted, all corresponding entries in Manages and Work_In are also deleted.\n",
        "5. Create a trigger to automatically assign a default advisor to a graduate if none is provided."
      ],
      "metadata": {
        "id": "7T3QoItxqeJP"
      }
    },
    {
      "cell_type": "code",
      "source": [
        "# q3\n",
        "results = cursor.execute(\"\"\"\n",
        "CREATE TRIGGER IF NOT EXISTS prevent_over_budget\n",
        "BEFORE INSERT ON Projects\n",
        "FOR EACH ROW\n",
        "BEGIN\n",
        "    SELECT CASE\n",
        "        WHEN NEW.budget > 100000 THEN\n",
        "            RAISE(ABORT, 'projects cannot have a budget over $100,000')\n",
        "    END;\n",
        "END;\n",
        "\"\"\")\n",
        "print(results.fetchall())\n",
        "\n",
        "projectt = [\n",
        "    (10, 'NSF', '2023-01-01', '2023-12-31', 500000)\n",
        "]\n",
        "cursor.executemany('INSERT OR IGNORE INTO Projects VALUES (?, ?, ?, ?, ?)', projectt)"
      ],
      "metadata": {
        "id": "4dlgUmYNp2OD",
        "outputId": "399f5c2b-7206-4b6a-a9c2-e12f91e310f8",
        "colab": {
          "base_uri": "https://localhost:8080/",
          "height": 193
        }
      },
      "execution_count": 28,
      "outputs": [
        {
          "output_type": "stream",
          "name": "stdout",
          "text": [
            "[]\n"
          ]
        },
        {
          "output_type": "error",
          "ename": "IntegrityError",
          "evalue": "projects cannot have a budget over $100,000",
          "traceback": [
            "\u001b[0;31m---------------------------------------------------------------------------\u001b[0m",
            "\u001b[0;31mIntegrityError\u001b[0m                            Traceback (most recent call last)",
            "\u001b[0;32m<ipython-input-28-a3ffce101457>\u001b[0m in \u001b[0;36m<cell line: 18>\u001b[0;34m()\u001b[0m\n\u001b[1;32m     16\u001b[0m     \u001b[0;34m(\u001b[0m\u001b[0;36m10\u001b[0m\u001b[0;34m,\u001b[0m \u001b[0;34m'NSF'\u001b[0m\u001b[0;34m,\u001b[0m \u001b[0;34m'2023-01-01'\u001b[0m\u001b[0;34m,\u001b[0m \u001b[0;34m'2023-12-31'\u001b[0m\u001b[0;34m,\u001b[0m \u001b[0;36m500000\u001b[0m\u001b[0;34m)\u001b[0m\u001b[0;34m\u001b[0m\u001b[0;34m\u001b[0m\u001b[0m\n\u001b[1;32m     17\u001b[0m ]\n\u001b[0;32m---> 18\u001b[0;31m \u001b[0mcursor\u001b[0m\u001b[0;34m.\u001b[0m\u001b[0mexecutemany\u001b[0m\u001b[0;34m(\u001b[0m\u001b[0;34m'INSERT OR IGNORE INTO Projects VALUES (?, ?, ?, ?, ?)'\u001b[0m\u001b[0;34m,\u001b[0m \u001b[0mprojectt\u001b[0m\u001b[0;34m)\u001b[0m\u001b[0;34m\u001b[0m\u001b[0;34m\u001b[0m\u001b[0m\n\u001b[0m",
            "\u001b[0;31mIntegrityError\u001b[0m: projects cannot have a budget over $100,000"
          ]
        }
      ]
    },
    {
      "cell_type": "code",
      "source": [
        "# q4\n",
        "results = cursor.execute(\"\"\"\n",
        "CREATE TRIGGER IF NOT EXISTS delete_project\n",
        "AFTER DELETE ON Projects\n",
        "FOR EACH ROW\n",
        "BEGIN\n",
        "    -- Delete corresponding rows from work_in\n",
        "    DELETE FROM Work_In WHERE pid = OLD.pid;\n",
        "\n",
        "    -- Delete corresponding rows from Manages\n",
        "    DELETE FROM Manages WHERE pid = OLD.pid;\n",
        "END;\n",
        "\n",
        "\"\"\")\n",
        "print(results.fetchall())\n",
        "res= cursor.execute(\"DELETE FROM Projects WHERE pid = 102\")\n",
        "print(res.fetchall())\n",
        "r1= cursor.execute(\"SELECT * FROM Projects\")\n",
        "print(r1.fetchall())\n",
        "r2= cursor.execute(\"SELECT * FROM Work_In\")\n",
        "print(r2.fetchall())\n",
        "r3= cursor.execute(\"SELECT * FROM Manages\")\n",
        "print(r3.fetchall())"
      ],
      "metadata": {
        "id": "BaGAcOizrXKz",
        "outputId": "6558f345-f33b-465e-9dc1-6953122e6085",
        "colab": {
          "base_uri": "https://localhost:8080/"
        }
      },
      "execution_count": 29,
      "outputs": [
        {
          "output_type": "stream",
          "name": "stdout",
          "text": [
            "[]\n",
            "[]\n",
            "[(10, 'NSF', '2023-01-01', '2023-12-31', 2000.0), (101, 'NSF', '2023-01-01', '2023-12-31', 50000.0), (103, 'Microsoft', '2023-03-01', '2023-11-30', 75000.0)]\n",
            "[(101, 'P1'), (103, 'P3')]\n",
            "[(101, 'P1'), (103, 'P3'), (101, 'P2')]\n"
          ]
        }
      ]
    },
    {
      "cell_type": "code",
      "source": [
        "# q5\n",
        "results = cursor.execute(\"\"\"\n",
        "CREATE TRIGGER IF NOT EXISTS default_advisor\n",
        "AFTER INSERT ON Graduates\n",
        "FOR EACH ROW\n",
        "WHEN NOT EXISTS (\n",
        "    SELECT 1 FROM Advisor WHERE grad_ssn = NEW.grad_ssn\n",
        ")\n",
        "BEGIN\n",
        "    INSERT INTO Advisor (senior_ssn, grad_ssn)\n",
        "    VALUES ('G1', NEW.grad_ssn);\n",
        "END;\n",
        "\"\"\")\n",
        "print(results.fetchall())\n",
        "graduates = [\n",
        "    ('G4', 24, 'maria', 'M.Sc', 1)\n",
        "]\n",
        "cursor.executemany('INSERT OR IGNORE INTO Graduates VALUES (?, ?, ?, ?, ?)', graduates)\n",
        "r1= cursor.execute(\"SELECT * FROM Graduates\")\n",
        "print(r1.fetchall())\n",
        "r2= cursor.execute(\"SELECT * FROM Advisor\")\n",
        "print(r2.fetchall())"
      ],
      "metadata": {
        "id": "ztLp5JpIrXpt",
        "outputId": "4a4bb16c-6b45-471d-f6c9-9c9d1fa5560a",
        "colab": {
          "base_uri": "https://localhost:8080/"
        }
      },
      "execution_count": 34,
      "outputs": [
        {
          "output_type": "stream",
          "name": "stdout",
          "text": [
            "[]\n",
            "[('G1', 24, 'Alice', 'M.Sc', 1), ('G2', 26, 'Bob', 'Ph.D', 2), ('G3', 23, 'Charlie', 'B.Sc', 3), ('G4', 24, 'maria', 'M.Sc', 1)]\n",
            "[('G2', 'G1'), ('G3', 'G2'), ('G1', 'G4')]\n"
          ]
        }
      ]
    }
  ]
}