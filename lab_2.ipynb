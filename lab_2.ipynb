{
  "nbformat": 4,
  "nbformat_minor": 0,
  "metadata": {
    "colab": {
      "provenance": [],
      "include_colab_link": true
    },
    "kernelspec": {
      "name": "python3",
      "display_name": "Python 3"
    },
    "language_info": {
      "name": "python"
    }
  },
  "cells": [
    {
      "cell_type": "markdown",
      "metadata": {
        "id": "view-in-github",
        "colab_type": "text"
      },
      "source": [
        "<a href=\"https://colab.research.google.com/github/00hiba00/project1/blob/main/lab_2.ipynb\" target=\"_parent\"><img src=\"https://colab.research.google.com/assets/colab-badge.svg\" alt=\"Open In Colab\"/></a>"
      ]
    },
    {
      "cell_type": "markdown",
      "source": [
        "# SQL with Python\n",
        "This lab introduces SQL using Python and SQLite, a lightweight database system. You will learn how to:\n",
        "- Connect to an SQLite database.\n",
        "- Create tables and insert data.\n",
        "- Perform batch data insertion.\n",
        "- Query the database.\n",
        "\n",
        "SQLite is ideal for learning as it requires no additional setup and comes pre-installed with Python.\n"
      ],
      "metadata": {
        "id": "PzoyeF-C9uPV"
      }
    },
    {
      "cell_type": "markdown",
      "source": [
        "## Install and Import Dependencies\n",
        "SQLite is included with Python, so no additional installation is required. However, we'll use pandas for CSV manipulation.\n"
      ],
      "metadata": {
        "id": "yQZfRi6A91eD"
      }
    },
    {
      "cell_type": "code",
      "execution_count": 1,
      "metadata": {
        "id": "nfOQm4uL9gc0"
      },
      "outputs": [],
      "source": [
        "import sqlite3\n",
        "import pandas as pd\n",
        "import os\n"
      ]
    },
    {
      "cell_type": "markdown",
      "source": [
        "## Connect to SQLite Database\n",
        "We'll create or connect to an SQLite database file named `lab_2.db`. If the file doesn't exist, SQLite will create it.\n"
      ],
      "metadata": {
        "id": "N7JTiuQo94YJ"
      }
    },
    {
      "cell_type": "code",
      "source": [
        "# remove existing db\n",
        "if \"lab_2.db\" in os.listdir():\n",
        "  os.remove(\"lab_2.db\")\n",
        "\n",
        "# Connect to SQLite database\n",
        "connection = sqlite3.connect(\"lab_2.db\")\n",
        "\n",
        "# Create a cursor object to execute SQL commands\n",
        "cursor = connection.cursor()\n",
        "\n",
        "print(\"Database connection established.\")\n"
      ],
      "metadata": {
        "id": "MCME1KuZ954t",
        "colab": {
          "base_uri": "https://localhost:8080/"
        },
        "outputId": "207b3663-705f-43f9-cd31-4a637dd1a42b"
      },
      "execution_count": 2,
      "outputs": [
        {
          "output_type": "stream",
          "name": "stdout",
          "text": [
            "Database connection established.\n"
          ]
        }
      ]
    },
    {
      "cell_type": "markdown",
      "source": [
        "## Creating a Table\n",
        "We'll create a table called `Students` with the following schema:\n",
        "- `ID`: INTEGER, Primary Key\n",
        "- `Name`: TEXT\n",
        "- `Age`: INTEGER\n",
        "- `Grade`: TEXT\n"
      ],
      "metadata": {
        "id": "ntieE3OU-Dof"
      }
    },
    {
      "cell_type": "code",
      "source": [
        "# Create a table\n",
        "create_table_query = '''\n",
        "CREATE TABLE IF NOT EXISTS Students (\n",
        "    ID INTEGER PRIMARY KEY,\n",
        "    Name TEXT,\n",
        "    Age INTEGER,\n",
        "    Grade TEXT\n",
        ");\n",
        "'''\n",
        "cursor.execute(create_table_query)\n",
        "connection.commit()\n",
        "\n",
        "print(\"Table 'Students' created successfully.\")\n"
      ],
      "metadata": {
        "id": "ejSNOzxd-Eyu",
        "colab": {
          "base_uri": "https://localhost:8080/"
        },
        "outputId": "867fcb97-25d9-4759-a82b-2d550a38a7ba"
      },
      "execution_count": null,
      "outputs": [
        {
          "output_type": "stream",
          "name": "stdout",
          "text": [
            "Table 'Students' created successfully.\n"
          ]
        }
      ]
    },
    {
      "cell_type": "markdown",
      "source": [
        "## Inserting Data\n",
        "Insert a few records into the `Students` table.\n"
      ],
      "metadata": {
        "id": "IGFV_Bmz-Kaj"
      }
    },
    {
      "cell_type": "code",
      "source": [
        "\n",
        "insert_query = '''\n",
        "INSERT INTO Students (Name, Age, Grade)\n",
        "VALUES (?, ?, ?);\n",
        "'''\n",
        "\n",
        "# data\n",
        "students_data = [\n",
        "    ('Alice', 20, 'A'),\n",
        "    ('Bob', 22, 'B'),\n",
        "    ('Charlie', 21, 'A'),\n",
        "]\n",
        "\n",
        "\n",
        "cursor.executemany(insert_query, students_data)\n",
        "connection.commit()\n",
        "\n",
        "print(\"Records inserted successfully.\")\n"
      ],
      "metadata": {
        "id": "OhClnK0L-L_k",
        "colab": {
          "base_uri": "https://localhost:8080/"
        },
        "outputId": "05949627-eaed-483f-c5f5-329287fec763"
      },
      "execution_count": null,
      "outputs": [
        {
          "output_type": "stream",
          "name": "stdout",
          "text": [
            "Records inserted successfully.\n"
          ]
        }
      ]
    },
    {
      "cell_type": "markdown",
      "source": [
        "## Querying Data\n",
        "Use SQL SELECT queries to retrieve data from the `Students` table.\n"
      ],
      "metadata": {
        "id": "tK6aF6TG-Uyw"
      }
    },
    {
      "cell_type": "code",
      "source": [
        "# Retrieve data\n",
        "query = \"SELECT * FROM Students;\"\n",
        "cursor.execute(query)\n",
        "\n",
        "# Fetch and display results\n",
        "results = cursor.fetchall()\n",
        "\n",
        "for row in results:\n",
        "    print(row)\n"
      ],
      "metadata": {
        "id": "MaTfBWjW-VjH",
        "colab": {
          "base_uri": "https://localhost:8080/"
        },
        "outputId": "8dea50e1-6367-4f10-f06c-e1a0f9004740"
      },
      "execution_count": null,
      "outputs": [
        {
          "output_type": "stream",
          "name": "stdout",
          "text": [
            "(1, 'Alice', 20, 'A')\n",
            "(2, 'Bob', 22, 'B')\n",
            "(3, 'Charlie', 21, 'A')\n"
          ]
        }
      ]
    },
    {
      "cell_type": "markdown",
      "source": [
        "## Batch Insertion\n",
        "We will load data into a new table named `Employees`.\n",
        "The should contain the following columns:\n",
        "- `ID` (INTEGER)\n",
        "- `Name` (TEXT)\n",
        "- `Position` (TEXT)\n",
        "- `Salary` (REAL)\n",
        "\n",
        "Let's create the `Employees` table and write data to table .\n"
      ],
      "metadata": {
        "id": "KY8J_vgL-YFp"
      }
    },
    {
      "cell_type": "code",
      "source": [
        "# Create Employees table\n",
        "create_employees_table = '''\n",
        "CREATE TABLE IF NOT EXISTS Employees (\n",
        "    ID INTEGER PRIMARY KEY,\n",
        "    Name TEXT,\n",
        "    Position TEXT,\n",
        "    Salary REAL\n",
        ");\n",
        "'''\n",
        "cursor.execute(create_employees_table)\n",
        "\n",
        "#data\n",
        "csv_data = [\n",
        "    (1, 'John Doe', 'Manager', 75000.0),\n",
        "    (2, 'Jane Smith', 'Developer', 65000.0),\n",
        "    (3, 'Emily Davis', 'Designer', 50000.0),\n",
        "]\n",
        "\n",
        "# Insert data into Employees table\n",
        "insert_employees_query = '''\n",
        "INSERT INTO Employees (ID, Name, Position, Salary)\n",
        "VALUES (?, ?, ?, ?);\n",
        "'''\n",
        "\n",
        "cursor.executemany(insert_employees_query, csv_data)\n",
        "connection.commit()\n",
        "\n",
        "print(\"Data loaded from CSV and inserted into 'Employees' table.\")\n"
      ],
      "metadata": {
        "id": "RYCyq9xv-aH3",
        "colab": {
          "base_uri": "https://localhost:8080/"
        },
        "outputId": "7d608151-1aee-4b58-eea7-b71e59d5feb6"
      },
      "execution_count": null,
      "outputs": [
        {
          "output_type": "stream",
          "name": "stdout",
          "text": [
            "Data loaded from CSV and inserted into 'Employees' table.\n"
          ]
        }
      ]
    },
    {
      "cell_type": "code",
      "source": [
        "\n",
        "csv_data = [\n",
        "    (4, 'John Doe', 'Manager'),\n",
        "    (5, 'Jane Smith', 'Developer'),\n",
        "    (6, 'Emily Davis', 'Designer'),\n",
        "]\n",
        "insert_employees_query = '''\n",
        "INSERT INTO Employees (ID, Name, Position)\n",
        "VALUES (?, ?, ?);\n",
        "'''\n",
        "\n",
        "cursor.executemany(insert_employees_query, csv_data)\n",
        "connection.commit()\n",
        "\n",
        "print(\"Data loaded from CSV and inserted into 'Employees' table.\")"
      ],
      "metadata": {
        "colab": {
          "base_uri": "https://localhost:8080/"
        },
        "id": "7QPCRyZIk3U7",
        "outputId": "ec942e62-1bc8-4e75-aab0-5612433dd57c"
      },
      "execution_count": null,
      "outputs": [
        {
          "output_type": "stream",
          "name": "stdout",
          "text": [
            "Data loaded from CSV and inserted into 'Employees' table.\n"
          ]
        }
      ]
    },
    {
      "cell_type": "code",
      "source": [
        "cursor.execute(\"SELECT * FROM Employees;\")\n",
        "\n"
      ],
      "metadata": {
        "colab": {
          "base_uri": "https://localhost:8080/"
        },
        "id": "OcHCwbJmlGw_",
        "outputId": "399e0e6d-1a85-4508-8ac5-1c619b261947"
      },
      "execution_count": null,
      "outputs": [
        {
          "output_type": "execute_result",
          "data": {
            "text/plain": [
              "<sqlite3.Cursor at 0x7b1dbbb888c0>"
            ]
          },
          "metadata": {},
          "execution_count": 24
        }
      ]
    },
    {
      "cell_type": "code",
      "source": [
        "results = cursor.fetchmany(1)\n",
        "results"
      ],
      "metadata": {
        "id": "CUvRpoejm1OL",
        "colab": {
          "base_uri": "https://localhost:8080/"
        },
        "outputId": "b6bc3213-6a43-4799-c258-9a1cd83eb7ce"
      },
      "execution_count": null,
      "outputs": [
        {
          "output_type": "execute_result",
          "data": {
            "text/plain": [
              "[(1, 'John Doe', 'Manager', 75000.0)]"
            ]
          },
          "metadata": {},
          "execution_count": 25
        }
      ]
    },
    {
      "cell_type": "markdown",
      "source": [
        "## Query Examples\n",
        "Let's perform some queries:\n",
        "1. Retrieve all employees earning more than $60,000.\n",
        "2. Count the number of employees.\n"
      ],
      "metadata": {
        "id": "-AC6GtHB-o-Z"
      }
    },
    {
      "cell_type": "code",
      "source": [
        "# Query: Employees earning more than $60,000\n",
        "query_high_salary = \"SELECT * FROM Employees WHERE Salary > 60000;\"\n",
        "cursor.execute(query_high_salary)\n",
        "# we use fetch all when we have multiple rows as output\n",
        "high_salary_employees = cursor.fetchall()\n",
        "print(\"Employees earning more than $60,000:\")\n",
        "for emp in high_salary_employees:\n",
        "    print(emp)\n",
        "\n",
        "# Query: Count the number of employees\n",
        "query_count = \"SELECT COUNT(*) FROM Employees;\"\n",
        "cursor.execute(query_count)\n",
        "# we use fetch all when we have multiple rows as output\n",
        "employee_count = cursor.fetchone()[0]\n",
        "print(f\"Total number of employees: {employee_count}\")\n"
      ],
      "metadata": {
        "id": "B-TQPxLc-pzo",
        "colab": {
          "base_uri": "https://localhost:8080/"
        },
        "outputId": "bf45b758-b51a-4c3c-98f3-70d5c96e555a"
      },
      "execution_count": null,
      "outputs": [
        {
          "output_type": "stream",
          "name": "stdout",
          "text": [
            "Employees earning more than $60,000:\n",
            "(1, 'John Doe', 'Manager', 75000.0)\n",
            "(2, 'Jane Smith', 'Developer', 65000.0)\n",
            "Total number of employees: 6\n"
          ]
        }
      ]
    },
    {
      "cell_type": "markdown",
      "source": [
        "## Closing the Database Connection\n",
        "Always close the database connection when you're done to ensure data integrity.\n"
      ],
      "metadata": {
        "id": "LN2pI37T-sb-"
      }
    },
    {
      "cell_type": "code",
      "source": [
        "# Close the connection\n",
        "connection.close()\n",
        "print(\"Database connection closed.\")\n"
      ],
      "metadata": {
        "id": "qtl2iZl4-tOQ",
        "colab": {
          "base_uri": "https://localhost:8080/"
        },
        "outputId": "57a4806a-c163-407a-9e6d-36634d941b7a"
      },
      "execution_count": null,
      "outputs": [
        {
          "output_type": "stream",
          "name": "stdout",
          "text": [
            "Database connection closed.\n"
          ]
        }
      ]
    },
    {
      "cell_type": "markdown",
      "source": [
        "# It is your turn !\n",
        "## **Lab: Transform ER Diagram seen in Exercise 2.3 into SQL Tables**\n",
        "\n",
        "### **Objective**\n",
        "The goal of this lab is to transform the given ER diagram into SQL tables, populate the tables with sample data, and write SQL queries to answer specific questions.\n",
        "\n",
        "---\n",
        "\n",
        "### **Instructions**\n",
        "\n",
        "\n",
        "1. **Create SQL Tables**  \n",
        "   - Use `CREATE TABLE` statements to define tables for each entity and relationship.  \n",
        "   - Ensure proper use of primary keys, foreign keys, and data types.\n",
        "\n",
        "2. **Insert Sample Data**  \n",
        "   - Populate each table with at least 5–10 rows of sample data.\n",
        "\n",
        "3. **Write SQL Queries**  \n",
        "   - Use SQL queries to answer the provided questions.\n",
        "\n",
        "---\n",
        "\n",
        "### **Questions**\n",
        "\n",
        "1. **List all professors and their research specialties.**  \n",
        "\n",
        "2. **Retrieve all projects managed by a specific professor.**  \n",
        "\n",
        "3. **Find the names of graduate students working on a specific project.**  \n",
        "\n",
        "4. **Find professors supervising graduate students on a specific project.**  \n",
        "\n",
        "5. **Count how many professors work in each department.**  \n",
        "\n",
        "6. **List graduate students and their advisors.**  \n",
        "\n",
        "7. **Find all projects with a budget greater than $1,000,000.**  \n",
        "\n",
        "8. **Retrieve all departments and their chairmen.**  \n",
        "\n",
        "9. **Find the total number of projects a specific professor is managing.**  \n",
        "\n",
        "10. **Find the names of graduate students and their major department.**  \n",
        "\n"
      ],
      "metadata": {
        "id": "HadH8a5T8Fip"
      }
    },
    {
      "cell_type": "code",
      "source": [
        "#CREATE TABLES\n",
        "#professors\n",
        "create_table_Professor = '''\n",
        "CREATE TABLE IF NOT EXISTS Professor (\n",
        "    prof_ssn CHAR(10) PRIMARY KEY,\n",
        "    Name CHAR(64),\n",
        "    Age INTEGER,\n",
        "    Rank INTEGER,\n",
        "    Speciality CHAR(64)\n",
        ");\n",
        "'''\n",
        "cursor.execute(create_table_Professor)\n",
        "\n",
        "create_table_Dept= '''\n",
        "CREATE TABLE IF NOT EXISTS Dept (\n",
        "    dno INTEGER PRIMARY KEY,\n",
        "    dName CHAR(64),\n",
        "    Office CHAR(10)\n",
        ");\n",
        "'''\n",
        "cursor.execute(create_table_Dept)\n",
        "\n",
        "create_table_Runs = '''\n",
        "CREATE TABLE IF NOT EXISTS Runs (\n",
        "    dno INTEGER,\n",
        "    prof_ssn CHAR(10),\n",
        "    PRIMARY KEY ( dno, prof_ssn),\n",
        "    FOREIGN KEY (prof_ssn) REFERENCES Professor(prof_ssn),\n",
        "    FOREIGN KEY (dno) REFERENCES Dept(dno)\n",
        ");\n",
        "'''\n",
        "cursor.execute(create_table_Runs)\n",
        "\n",
        "create_table_Work_Dept = '''\n",
        "CREATE TABLE IF NOT EXISTS Work_Dept (\n",
        "    dno INTEGER,\n",
        "    prof_ssn CHAR(10),\n",
        "    pc_time INTEGER,\n",
        "    PRIMARY KEY (dno, prof_ssn),\n",
        "    FOREIGN KEY (prof_ssn) REFERENCES Professor(prof_ssn),\n",
        "    FOREIGN KEY (dno) REFERENCES Dept(dno)\n",
        ");\n",
        "'''\n",
        "cursor.execute(create_table_Work_Dept)\n",
        "\n",
        "create_table_Projet = '''\n",
        "CREATE TABLE IF NOT EXISTS Projet (\n",
        "    pid INTEGER PRIMARY KEY,\n",
        "    sponsor CHAR(32),\n",
        "    start_date DATE,\n",
        "    end_date DATE,\n",
        "    budget FLOAT\n",
        ");\n",
        "'''\n",
        "cursor.execute(create_table_Projet)\n",
        "\n",
        "create_table_Graduate = '''\n",
        "CREATE TABLE IF NOT EXISTS Graduate (\n",
        "    grad_ssn CHAR(10) PRIMARY KEY,\n",
        "    age INTEGER,\n",
        "    name CHAR(64),\n",
        "    deg_prog CHAR(32),\n",
        "    major INTEGER,\n",
        "    FOREIGN KEY (major) REFERENCES Dept(dName)\n",
        ");\n",
        "'''\n",
        "cursor.execute(create_table_Graduate)\n",
        "\n",
        "create_table_Advisor = '''\n",
        "CREATE TABLE IF NOT EXISTS Advisor (\n",
        "    senior_ssn CHAR(10),\n",
        "    grad_ssn CHAR(10),\n",
        "    PRIMARY KEY (senior_ssn, grad_ssn),\n",
        "    FOREIGN KEY (senior_ssn) REFERENCES Graduate(grad_ssn),\n",
        "    FOREIGN KEY (grad_ssn) REFERENCES Graduate(grad_ssn)\n",
        ");\n",
        "'''\n",
        "cursor.execute(create_table_Advisor)\n",
        "\n",
        "create_table_Manage = '''\n",
        "CREATE TABLE IF NOT EXISTS Manage (\n",
        "    pid INTEGER,\n",
        "    prof_ssn CHAR(10),\n",
        "    PRIMARY KEY (pid, prof_ssn),\n",
        "    FOREIGN KEY (prof_ssn) REFERENCES Professor(prof_ssn),\n",
        "    FOREIGN KEY (pid) REFERENCES Project(pid)\n",
        ");\n",
        "'''\n",
        "cursor.execute(create_table_Manage)\n",
        "\n",
        "create_table_Work_In = '''\n",
        "CREATE TABLE IF NOT EXISTS Work_In (\n",
        "    pid INTEGER,\n",
        "    prof_ssn CHAR(10),\n",
        "    PRIMARY KEY (pid, prof_ssn),\n",
        "    FOREIGN KEY (prof_ssn) REFERENCES Professor(prof_ssn),\n",
        "    FOREIGN KEY (pid) REFERENCES Project(pid)\n",
        ");\n",
        "'''\n",
        "cursor.execute(create_table_Work_In)\n",
        "\n",
        "create_table_Supervise = '''\n",
        "CREATE TABLE IF NOT EXISTS Supervise (\n",
        "    prof_ssn CHAR(10),\n",
        "    grad_ssn CHAR(10),\n",
        "    pid INTEGER,\n",
        "    PRIMARY KEY (prof_ssn, grad_ssn, pid),\n",
        "    FOREIGN KEY (prof_ssn) REFERENCES Professor(prof_ssn),\n",
        "    FOREIGN KEY (grad_ssn) REFERENCES Graduate(grad_ssn),\n",
        "    FOREIGN KEY (pid) REFERENCES Project(pid)\n",
        ");\n",
        "'''\n",
        "cursor.execute(create_table_Supervise)\n",
        "\n",
        "connection.commit()"
      ],
      "metadata": {
        "id": "jD5YZedH8FUp"
      },
      "execution_count": 3,
      "outputs": []
    },
    {
      "cell_type": "code",
      "source": [
        "#inserting data\n",
        "insert_query1= '''\n",
        "INSERT INTO Professor (prof_ssn, Name, Age, Rank, Speciality)\n",
        "VALUES (?, ?, ?, ?, ?);\n",
        "'''\n",
        "\n",
        "# Sample data\n",
        "professors_data = [\n",
        "    ('1234567890', 'Dr. Alice Johnson', 45, 1, 'Computer Science'),\n",
        "    ('0987654321', 'Dr. Bob Smith', 50, 2, 'Mathematics'),\n",
        "    ('1122334455', 'Dr. Charlie Brown', 38, 3, 'Physics'),\n",
        "    ('2233445566', 'Dr. Diana Prince', 40, 2, 'Biology'),\n",
        "    ('3344556677', 'Dr. Ethan Hunt', 42, 1, 'Chemistry'),\n",
        "    ('4455667788', 'Dr. Fiona Gallagher', 35, 3, 'Psychology'),\n",
        "    ('5566778899', 'Dr. George Clooney', 48, 2, 'Engineering'),\n",
        "]\n",
        "\n",
        "# Execute insertion\n",
        "cursor.executemany(insert_query1, professors_data)\n",
        "\n",
        "# Insert query\n",
        "insert_query2 = '''\n",
        "INSERT INTO Dept (dno, dName, Office)\n",
        "VALUES (?, ?, ?);\n",
        "'''\n",
        "\n",
        "# Sample data\n",
        "departments_data = [\n",
        "    (1, 'Computer Science', 'C101'),\n",
        "    (2, 'Mathematics', 'M202'),\n",
        "    (3, 'Physics', 'P303'),\n",
        "    (4, 'Biology', 'B404'),\n",
        "    (5, 'Chemistry', 'C505'),\n",
        "    (6, 'Psychology', 'P606'),\n",
        "    (7, 'Engineering', 'E707'),\n",
        "]\n",
        "\n",
        "# Execute insertion\n",
        "cursor.executemany(insert_query2, departments_data)\n",
        "\n",
        "# Insert query\n",
        "insert_query3 = '''\n",
        "INSERT INTO Runs (dno, prof_ssn)\n",
        "VALUES (?, ?);\n",
        "'''\n",
        "\n",
        "# Sample data\n",
        "runs_data = [\n",
        "    (1, '1234567890'),  # Department 1 (Computer Science), Professor Alice Johnson\n",
        "    (2, '0987654321'),  # Department 2 (Mathematics), Professor Bob Smith\n",
        "    (3, '1122334455'),  # Department 3 (Physics), Professor Charlie Brown\n",
        "    (4, '2233445566'),  # Department 4 (Biology), Professor Diana Prince\n",
        "    (5, '3344556677'),  # Department 5 (Chemistry), Professor Ethan Hunt\n",
        "    (6, '4455667788'),  # Department 6 (Psychology), Professor Fiona Gallagher\n",
        "    (7, '5566778899'),  # Department 7 (Engineering), Professor George Clooney\n",
        "]\n",
        "\n",
        "# Execute insertion\n",
        "cursor.executemany(insert_query3, runs_data)\n",
        "\n",
        "# Insert query\n",
        "insert_query4 = '''\n",
        "INSERT INTO Work_Dept (dno, prof_ssn, pc_time)\n",
        "VALUES (?, ?, ?);\n",
        "'''\n",
        "\n",
        "# Sample data\n",
        "work_dept_data = [\n",
        "    (1, '1234567890', 20),  # Professor Alice Johnson spends 20 hours\n",
        "    (2, '0987654321', 25),  # Professor Bob Smith spends 25 hours\n",
        "    (3, '1122334455', 15),  # Professor Charlie Brown spends 15 hours\n",
        "    (4, '2233445566', 30),  # Professor Diana Prince spends 30 hours\n",
        "    (5, '3344556677', 18),  # Professor Ethan Hunt spends 18 hours\n",
        "    (6, '4455667788', 22),  # Professor Fiona Gallagher spends 22 hours\n",
        "    (7, '5566778899', 28),  # Professor George Clooney spends 28 hours\n",
        "]\n",
        "\n",
        "# Execute insertion\n",
        "cursor.executemany(insert_query4, work_dept_data)\n",
        "\n",
        "# Insert query\n",
        "insert_query5 = '''\n",
        "INSERT INTO Projet (pid, sponsor, start_date, end_date, budget)\n",
        "VALUES (?, ?, ?, ?, ?);\n",
        "'''\n",
        "\n",
        "# Sample data\n",
        "projet_data = [\n",
        "    (101, 'NASA', '2024-01-01', '2024-12-31', 500000),\n",
        "    (102, 'NIH', '2023-05-01', '2025-04-30', 300000),\n",
        "    (103, 'Google', '2024-06-01', '2024-11-30', 200000),\n",
        "    (104, 'Microsoft', '2023-01-15', '2024-01-15', 450000),\n",
        "    (105, 'Intel', '2024-03-01', '2025-02-28', 350000),\n",
        "    (106, 'IBM', '2023-09-01', '2024-08-31', 250000),\n",
        "    (107, 'Amazon', '2022-01-01', '2024-12-31', 600000),\n",
        "]\n",
        "\n",
        "# Execute insertion\n",
        "cursor.executemany(insert_query5, projet_data)\n",
        "\n",
        "# Insert query\n",
        "insert_query6 = '''\n",
        "INSERT INTO Graduate (grad_ssn, age, name, deg_prog, major)\n",
        "VALUES (?, ?, ?, ?, ?);\n",
        "'''\n",
        "\n",
        "# Sample data\n",
        "graduate_data = [\n",
        "    ('1000000001', 24, 'Emily Davis', 'MSc', 1),  # Computer Science\n",
        "    ('1000000002', 23, 'James Brown', 'PhD', 2),  # Mathematics\n",
        "    ('1000000003', 22, 'Liam Smith', 'MSc', 3),  # Physics\n",
        "    ('1000000004', 25, 'Sophia Johnson', 'PhD', 4),  # Biology\n",
        "    ('1000000005', 26, 'Oliver Garcia', 'MSc', 5),  # Chemistry\n",
        "    ('1000000006', 27, 'Isabella Martinez', 'PhD', 6),  # Psychology\n",
        "    ('1000000007', 23, 'Noah Wilson', 'MSc', 7),  # Engineering\n",
        "]\n",
        "\n",
        "# Execute insertion\n",
        "cursor.executemany(insert_query6, graduate_data)\n",
        "\n",
        "# Insert query\n",
        "insert_query7 = '''\n",
        "INSERT INTO Advisor (senior_ssn, grad_ssn)\n",
        "VALUES (?, ?);\n",
        "'''\n",
        "\n",
        "# Sample data\n",
        "advisor_data = [\n",
        "    ('1000000002', '1000000001'),  # Senior James Brown advises Emily Davis\n",
        "    ('1000000004', '1000000003'),  # Senior Sophia Johnson advises Liam Smith\n",
        "    ('1000000006', '1000000005'),  # Senior Isabella Martinez advises Oliver Garcia\n",
        "    ('1000000007', '1000000006'),  # Senior Noah Wilson advises Isabella Martinez\n",
        "    ('1000000001', '1000000007'),  # Senior Emily Davis advises Noah Wilson\n",
        "    ('1000000003', '1000000002'),  # Senior Liam Smith advises James Brown\n",
        "    ('1000000005', '1000000004'),  # Senior Oliver Garcia advises Sophia Johnson\n",
        "]\n",
        "\n",
        "# Execute insertion\n",
        "cursor.executemany(insert_query7, advisor_data)\n",
        "\n",
        "# Insert query\n",
        "insert_query8 = '''\n",
        "INSERT INTO Manage (pid, prof_ssn)\n",
        "VALUES (?, ?);\n",
        "'''\n",
        "\n",
        "# Sample data\n",
        "manage_data = [\n",
        "    (101, '1234567890'),  # Professor Alice Johnson manages Project 101\n",
        "    (102, '1234567890'),  # Professor Bob Smith manages Project 102\n",
        "    (103, '1122334455'),  # Professor Charlie Brown manages Project 103\n",
        "    (104, '2233445566'),  # Professor Diana Prince manages Project 104\n",
        "    (105, '3344556677'),  # Professor Ethan Hunt manages Project 105\n",
        "    (106, '4455667788'),  # Professor Fiona Gallagher manages Project 106\n",
        "    (107, '5566778899'),  # Professor George Clooney manages Project 107\n",
        "]\n",
        "\n",
        "# Execute insertion\n",
        "cursor.executemany(insert_query8, manage_data)\n",
        "\n",
        "# Insert query\n",
        "insert_query9 = '''\n",
        "INSERT INTO Work_In (pid, prof_ssn)\n",
        "VALUES (?, ?);\n",
        "'''\n",
        "\n",
        "# Sample data\n",
        "work_in_data = [\n",
        "    (101, '1234567890'),  # Professor Alice Johnson works on Project 101\n",
        "    (102, '0987654321'),  # Professor Bob Smith works on Project 102\n",
        "    (103, '1122334455'),  # Professor Charlie Brown works on Project 103\n",
        "    (104, '2233445566'),  # Professor Diana Prince works on Project 104\n",
        "    (105, '3344556677'),  # Professor Ethan Hunt works on Project 105\n",
        "    (106, '4455667788'),  # Professor Fiona Gallagher works on Project 106\n",
        "    (107, '5566778899'),  # Professor George Clooney works on Project 107\n",
        "]\n",
        "\n",
        "# Execute insertion\n",
        "cursor.executemany(insert_query9, work_in_data)\n",
        "\n",
        "# Insert query\n",
        "insert_query10 = '''\n",
        "INSERT INTO Supervise (prof_ssn, grad_ssn, pid)\n",
        "VALUES (?, ?, ?);\n",
        "'''\n",
        "\n",
        "# Sample data\n",
        "supervise_data = [\n",
        "    ('1234567890', '1000000001', 101),  # Professor Alice Johnson supervises Emily Davis on Project 101\n",
        "    ('0987654321', '1000000002', 102),  # Professor Bob Smith supervises James Brown on Project 102\n",
        "    ('1122334455', '1000000003', 103),  # Professor Charlie Brown supervises Liam Smith on Project 103\n",
        "    ('2233445566', '1000000004', 104),  # Professor Diana Prince supervises Sophia Johnson on Project 104\n",
        "    ('3344556677', '1000000005', 105),  # Professor Ethan Hunt supervises Oliver Garcia on Project 105\n",
        "    ('4455667788', '1000000006', 106),  # Professor Fiona Gallagher supervises Isabella Martinez on Project 106\n",
        "    ('5566778899', '1000000007', 107),  # Professor George Clooney supervises Noah Wilson on Project 107\n",
        "]\n",
        "\n",
        "# Execute insertion\n",
        "cursor.executemany(insert_query10, supervise_data)\n",
        "\n",
        "\n",
        "connection.commit()\n"
      ],
      "metadata": {
        "id": "uhj2bgVObuOu"
      },
      "execution_count": 4,
      "outputs": []
    },
    {
      "cell_type": "code",
      "source": [
        "#visualize data\n",
        "query = \"SELECT * FROM Professor;\"\n",
        "cursor.execute(query)\n",
        "\n",
        "# Fetch and display results\n",
        "results = cursor.fetchall()\n",
        "\n",
        "for row in results:\n",
        "    print(row)"
      ],
      "metadata": {
        "colab": {
          "base_uri": "https://localhost:8080/"
        },
        "id": "uevzbrt1ehh0",
        "outputId": "76417ec9-5715-4451-a9d5-04b0f161a548"
      },
      "execution_count": null,
      "outputs": [
        {
          "output_type": "stream",
          "name": "stdout",
          "text": [
            "('1234567890', 'Dr. Alice Johnson', 45, 1, 'Computer Science')\n",
            "('0987654321', 'Dr. Bob Smith', 50, 2, 'Mathematics')\n",
            "('1122334455', 'Dr. Charlie Brown', 38, 3, 'Physics')\n",
            "('2233445566', 'Dr. Diana Prince', 40, 2, 'Biology')\n",
            "('3344556677', 'Dr. Ethan Hunt', 42, 1, 'Chemistry')\n",
            "('4455667788', 'Dr. Fiona Gallagher', 35, 3, 'Psychology')\n",
            "('5566778899', 'Dr. George Clooney', 48, 2, 'Engineering')\n"
          ]
        }
      ]
    },
    {
      "cell_type": "code",
      "source": [
        "#all professor and their research specialities\n",
        "query = \"SELECT Name, Speciality FROM Professor;\"\n",
        "cursor.execute(query)\n",
        "\n",
        "# Fetch and display results\n",
        "results = cursor.fetchall()\n",
        "\n",
        "for row in results:\n",
        "    print(row)"
      ],
      "metadata": {
        "colab": {
          "base_uri": "https://localhost:8080/"
        },
        "id": "EkOD5KyMf2nR",
        "outputId": "b26324eb-0a89-45fd-9672-721de89ec39d"
      },
      "execution_count": null,
      "outputs": [
        {
          "output_type": "stream",
          "name": "stdout",
          "text": [
            "('Dr. Alice Johnson', 'Computer Science')\n",
            "('Dr. Bob Smith', 'Mathematics')\n",
            "('Dr. Charlie Brown', 'Physics')\n",
            "('Dr. Diana Prince', 'Biology')\n",
            "('Dr. Ethan Hunt', 'Chemistry')\n",
            "('Dr. Fiona Gallagher', 'Psychology')\n",
            "('Dr. George Clooney', 'Engineering')\n"
          ]
        }
      ]
    },
    {
      "cell_type": "code",
      "source": [
        "#all projects managed by a specific professor (Dr. Alice Johnson)\n",
        "query = \"SELECT m.pid FROM Manage as m JOIN Professor as p ON m.prof_ssn=p.prof_ssn WHERE p.Name='Dr. Alice Johnson';\"\n",
        "cursor.execute(query)\n",
        "\n",
        "# Fetch and display results\n",
        "results = cursor.fetchall()\n",
        "\n",
        "for row in results:\n",
        "    print(row)"
      ],
      "metadata": {
        "colab": {
          "base_uri": "https://localhost:8080/"
        },
        "id": "ceSXPW9dgZvp",
        "outputId": "e8e0236b-f55c-419d-ae10-d0e7311db0cc"
      },
      "execution_count": null,
      "outputs": [
        {
          "output_type": "stream",
          "name": "stdout",
          "text": [
            "(101,)\n",
            "(102,)\n"
          ]
        }
      ]
    },
    {
      "cell_type": "code",
      "source": [
        "#names of graduate students working on a specific project(ex 101)\n",
        "query = \"SELECT g.name FROM Graduate as g JOIN Supervise as s ON g.grad_ssn=s.grad_ssn WHERE s.pid=101;\"\n",
        "cursor.execute(query)\n",
        "\n",
        "# Fetch and display results\n",
        "results = cursor.fetchall()\n",
        "\n",
        "for row in results:\n",
        "    print(row)"
      ],
      "metadata": {
        "colab": {
          "base_uri": "https://localhost:8080/"
        },
        "id": "B1r4f8_Vk4tL",
        "outputId": "3761cce1-1436-42aa-e910-4958960aee06"
      },
      "execution_count": null,
      "outputs": [
        {
          "output_type": "stream",
          "name": "stdout",
          "text": [
            "('Emily Davis',)\n"
          ]
        }
      ]
    },
    {
      "cell_type": "code",
      "source": [
        "#professors supervising graduate students on a specific project\n",
        "query = \"SELECT p.Name FROM Professor as p JOIN Supervise as s ON p.prof_ssn=s.prof_ssn WHERE s.pid=101\"\n",
        "cursor.execute(query)\n",
        "\n",
        "# Fetch and display results\n",
        "results = cursor.fetchall()\n",
        "\n",
        "for row in results:\n",
        "    print(row)"
      ],
      "metadata": {
        "colab": {
          "base_uri": "https://localhost:8080/"
        },
        "id": "yNmctFzQoa0_",
        "outputId": "c8e55280-dff5-46a4-c65f-d20eb015ce6e"
      },
      "execution_count": null,
      "outputs": [
        {
          "output_type": "stream",
          "name": "stdout",
          "text": [
            "('Dr. Alice Johnson',)\n"
          ]
        }
      ]
    },
    {
      "cell_type": "code",
      "source": [
        "#count professor working in each dept\n",
        "query = \"SELECT w.dno, COUNT(w.prof_ssn) FROM Work_Dept as w GROUP BY w.dno;\"\n",
        "cursor.execute(query)\n",
        "\n",
        "# Fetch and display results\n",
        "results = cursor.fetchall()\n",
        "\n",
        "for row in results:\n",
        "    print(row)"
      ],
      "metadata": {
        "colab": {
          "base_uri": "https://localhost:8080/"
        },
        "id": "TXiz1-nbLzTm",
        "outputId": "0dda5c0a-b811-4712-ca72-c1d01b8633ee"
      },
      "execution_count": 6,
      "outputs": [
        {
          "output_type": "stream",
          "name": "stdout",
          "text": [
            "(1, 1)\n",
            "(2, 1)\n",
            "(3, 1)\n",
            "(4, 1)\n",
            "(5, 1)\n",
            "(6, 1)\n",
            "(7, 1)\n"
          ]
        }
      ]
    },
    {
      "cell_type": "code",
      "source": [
        "#List graduate students and their advisors.\n",
        "query = \"SELECT g1.name, g2.name FROM Graduate as g1 JOIN Advisor as a ON g1.grad_ssn=a.grad_ssn JOIN Graduate as g2 ON g2.grad_ssn=a.senior_ssn\"\n",
        "cursor.execute(query)\n",
        "\n",
        "# Fetch and display results\n",
        "results = cursor.fetchall()\n",
        "\n",
        "for row in results:\n",
        "    print(row)"
      ],
      "metadata": {
        "colab": {
          "base_uri": "https://localhost:8080/"
        },
        "id": "5d3dUSEFNs6X",
        "outputId": "bedd2989-88cd-4a29-9cbd-9601aeef2f67"
      },
      "execution_count": 10,
      "outputs": [
        {
          "output_type": "stream",
          "name": "stdout",
          "text": [
            "('Emily Davis', 'James Brown')\n",
            "('Liam Smith', 'Sophia Johnson')\n",
            "('Oliver Garcia', 'Isabella Martinez')\n",
            "('Isabella Martinez', 'Noah Wilson')\n",
            "('Noah Wilson', 'Emily Davis')\n",
            "('James Brown', 'Liam Smith')\n",
            "('Sophia Johnson', 'Oliver Garcia')\n"
          ]
        }
      ]
    },
    {
      "cell_type": "code",
      "source": [
        "#all projects with a budget greater than $1,000,000\n",
        "query = \"SELECT * FROM Projet as p WHERE p.budget>1000000;\"\n",
        "cursor.execute(query)\n",
        "\n",
        "# Fetch and display results\n",
        "results = cursor.fetchall()\n",
        "\n",
        "for row in results:\n",
        "    print(row)"
      ],
      "metadata": {
        "id": "FuqZ51mYSdBD"
      },
      "execution_count": 11,
      "outputs": []
    },
    {
      "cell_type": "code",
      "source": [
        "#all departments and their chairmen\n",
        "query = \"SELECT d.dName, p.Name FROM Dept as d JOIN Runs as r ON r.dno=d.dno JOIN Professor as p ON p.prof_ssn=r.prof_ssn\"\n",
        "cursor.execute(query)\n",
        "\n",
        "# Fetch and display results\n",
        "results = cursor.fetchall()\n",
        "\n",
        "for row in results:\n",
        "    print(row)"
      ],
      "metadata": {
        "colab": {
          "base_uri": "https://localhost:8080/"
        },
        "id": "T_nnhvFlS5l1",
        "outputId": "d4acada5-9b21-4f3e-8040-e3b17e683634"
      },
      "execution_count": 12,
      "outputs": [
        {
          "output_type": "stream",
          "name": "stdout",
          "text": [
            "('Computer Science', 'Dr. Alice Johnson')\n",
            "('Mathematics', 'Dr. Bob Smith')\n",
            "('Physics', 'Dr. Charlie Brown')\n",
            "('Biology', 'Dr. Diana Prince')\n",
            "('Chemistry', 'Dr. Ethan Hunt')\n",
            "('Psychology', 'Dr. Fiona Gallagher')\n",
            "('Engineering', 'Dr. George Clooney')\n"
          ]
        }
      ]
    },
    {
      "cell_type": "code",
      "source": [
        "#the total number of projects a specific professor is managing (Dr. Alice Johnson)\n",
        "query= \"SELECT COUNT(m.pid) FROM Manage as m JOIN Professor as p ON p.prof_ssn=m.prof_ssn GROUP BY m.prof_ssn HAVING p.Name='Dr. Alice Johnson' \"\n",
        "cursor.execute(query)\n",
        "\n",
        "# Fetch and display results\n",
        "results = cursor.fetchall()\n",
        "\n",
        "for row in results:\n",
        "    print(row)"
      ],
      "metadata": {
        "colab": {
          "base_uri": "https://localhost:8080/"
        },
        "id": "1W145nG2UGvq",
        "outputId": "c27fe8c4-b6cf-4887-92ec-7d19faa99597"
      },
      "execution_count": 16,
      "outputs": [
        {
          "output_type": "stream",
          "name": "stdout",
          "text": [
            "(2,)\n"
          ]
        }
      ]
    },
    {
      "cell_type": "code",
      "source": [
        "# names of graduate students and their major department.\n",
        "query = \"SELECT g.name, d.dName FROM Graduate as g JOIN Dept as d ON g.major=d.dno\"\n",
        "cursor.execute(query)\n",
        "\n",
        "# Fetch and display results\n",
        "results = cursor.fetchall()\n",
        "\n",
        "for row in results:\n",
        "    print(row)"
      ],
      "metadata": {
        "colab": {
          "base_uri": "https://localhost:8080/"
        },
        "id": "qAKsY3V6VyLO",
        "outputId": "7ba7c023-a61c-4845-b3fa-1ff6e6927f36"
      },
      "execution_count": 17,
      "outputs": [
        {
          "output_type": "stream",
          "name": "stdout",
          "text": [
            "('Emily Davis', 'Computer Science')\n",
            "('James Brown', 'Mathematics')\n",
            "('Liam Smith', 'Physics')\n",
            "('Sophia Johnson', 'Biology')\n",
            "('Oliver Garcia', 'Chemistry')\n",
            "('Isabella Martinez', 'Psychology')\n",
            "('Noah Wilson', 'Engineering')\n"
          ]
        }
      ]
    }
  ]
}